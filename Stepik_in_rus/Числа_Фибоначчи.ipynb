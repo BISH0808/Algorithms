{
  "nbformat": 4,
  "nbformat_minor": 0,
  "metadata": {
    "colab": {
      "provenance": [],
      "toc_visible": true,
      "authorship_tag": "ABX9TyPLFCsTm+aqjbV7aHYO/O9s",
      "include_colab_link": true
    },
    "kernelspec": {
      "name": "python3",
      "display_name": "Python 3"
    },
    "language_info": {
      "name": "python"
    }
  },
  "cells": [
    {
      "cell_type": "markdown",
      "metadata": {
        "id": "view-in-github",
        "colab_type": "text"
      },
      "source": [
        "<a href=\"https://colab.research.google.com/github/BISH0808/Algorithms/blob/main/Stepik_in_rus/%D0%A7%D0%B8%D1%81%D0%BB%D0%B0_%D0%A4%D0%B8%D0%B1%D0%BE%D0%BD%D0%B0%D1%87%D1%87%D0%B8.ipynb\" target=\"_parent\"><img src=\"https://colab.research.google.com/assets/colab-badge.svg\" alt=\"Open In Colab\"/></a>"
      ]
    },
    {
      "cell_type": "markdown",
      "source": [
        "# Числа Фибоначчи"
      ],
      "metadata": {
        "id": "4UihMAo1ZhDm"
      }
    },
    {
      "cell_type": "markdown",
      "source": [
        "## Теория"
      ],
      "metadata": {
        "id": "WhzdpUudLOnu"
      }
    },
    {
      "cell_type": "markdown",
      "source": [
        "**Комментарий к лекции лучше раскрывает суть, чем объяснения лектора**"
      ],
      "metadata": {
        "id": "H3H0925p6J7Z"
      }
    },
    {
      "cell_type": "markdown",
      "source": [
        "Для тех, кто зациклился на числах Фибоначчи.\n",
        "\n",
        "В данной лекции, автор пытается сказать следующее:\n",
        "\n",
        "1.... и оно же - последнее.\n",
        "\n",
        "Для решения любой задачи существует несколько способов. И мы, как программисты, обязаны не только решить задачу, но и найти наиболее простой способ ее решения.\n",
        "\n",
        "Например:\n",
        "\n",
        "Нам нужно найти сумму чисел 1, 2, 3, 4, 5... и так до 9. Мы можем решить эту задачу по-разному. Самый очевидный вариант решения - брать и складывать числа по порядку.\n",
        "\n",
        "Т.е. 1+2 = 3....   3+3 = 6....   6+4 = 10...   10+5 = 15...   15+6 = 21...   21+7  = 28...   28 +8 = 36...   36+9 = 45!\n",
        "\n",
        "Но в то же время, мы можем пойти другим путем:\n",
        "\n",
        "10 / 2 = 5...   5-1 = 4...   4*10 = 40...   40 + число из первого действия = 45!\n",
        "\n",
        "Фактически все наше решение описывается следующей формулой: ((10/2)-1)*10 + (10/2)...\n",
        "\n",
        "Как видим, во втором случае нам пришлось проделать куда меньше действий, а главное, все эти действия легко можно произвести в уме безо всякого калькулятора.\n",
        "\n",
        "Как именно получился такой результат решения?\n",
        "\n",
        "Если посмотреть на ряд чисел:\n",
        "1+2+3+4+5+6+7+8+9\n",
        "\n",
        "То можно заметить, что если брать первое число с начала и первое число с конца, их сумма всегда будет равна 10.\n",
        "\n",
        "Т.е.\n",
        "1+9 = 10...   в списке остаются: 2+3+4+5+6+7+8\n",
        "\n",
        "2+8 = 10...   в списке остаются: 3+4+5+6+7\n",
        "3+7 = 10...   в списке остаются 4+5+6\n",
        "4+6 = 10...   в списке остается 5\n",
        "(10*4)+5 = 45.\n",
        "\n",
        "И мы должны научиться решать задачи не просто ради того, чтобы решить, а находить оптимальные способы решения.\n",
        "И этому будет посвящено еще черт знает сколько уроков, под завязку забитых непонятными формулами и еще черт знает чем, так что готовьтесь к мучительному аду отсутствия преподавательского таланта."
      ],
      "metadata": {
        "id": "XZOldF7X6RZx"
      }
    },
    {
      "cell_type": "markdown",
      "source": [],
      "metadata": {
        "id": "AGQPiUo06SwY"
      }
    },
    {
      "cell_type": "markdown",
      "source": [
        "## Задача 1"
      ],
      "metadata": {
        "id": "3yTWItv0LQ5-"
      }
    },
    {
      "cell_type": "markdown",
      "source": [
        "### Мое решение"
      ],
      "metadata": {
        "id": "5ehFzvTJLT5u"
      }
    },
    {
      "cell_type": "markdown",
      "source": [
        "def fib(n):\n",
        "\n",
        "    fibnumbers=[0, 1]\n",
        "\n",
        "    if n < 0:\n",
        "\n",
        "        print(\"Incorrect input\")\n",
        "\n",
        "    elif n == 0:\n",
        "\n",
        "        return fibnumbers[0]\n",
        "\n",
        "    elif n == 1:\n",
        "\n",
        "        return fibnumbers[1]\n",
        "\n",
        "    else:\n",
        "\n",
        "        for i in range(2, n+1):\n",
        "\n",
        "            fibnumbers.append(fibnumbers[i-1] + fibnumbers[i-2])\n",
        "\n",
        "                                           \n",
        "    return fibnumbers[n]\n",
        "        \n",
        "\n",
        "def main():\n",
        "\n",
        "    n = int(input())\n",
        "    \n",
        "        \n",
        "    print(fib(n))\n",
        "\n",
        "\n",
        "if __name__ == \"__main__\":\n",
        "\n",
        "    main()"
      ],
      "metadata": {
        "id": "HHDkgSSLLgE2"
      }
    },
    {
      "cell_type": "markdown",
      "source": [
        "Проверяем решение при  n=3"
      ],
      "metadata": {
        "id": "RPBgfZFJLmin"
      }
    },
    {
      "cell_type": "code",
      "source": [
        "def fib(n):\n",
        "    fibnumbers=[0, 1]\n",
        "    if n < 0:\n",
        "        print(\"Incorrect input\")\n",
        "    elif n == 0:\n",
        "        return fibnumbers[0]\n",
        "    elif n == 1:\n",
        "        return fibnumbers[1]\n",
        "    else:\n",
        "        for i in range(2, n+1):\n",
        "            fibnumbers.append(fibnumbers[i-1] + fibnumbers[i-2])\n",
        "                                           \n",
        "    return fibnumbers[n]\n",
        "        \n",
        "\n",
        "def main():\n",
        "    n = 3\n",
        "    \n",
        "        \n",
        "    print(fib(n))\n",
        "\n",
        "\n",
        "if __name__ == \"__main__\":\n",
        "    main()"
      ],
      "metadata": {
        "colab": {
          "base_uri": "https://localhost:8080/"
        },
        "id": "qlxX9Cf1Lkke",
        "outputId": "47e9400e-e2a8-4d7e-a9fe-fee1f96f31e9"
      },
      "execution_count": 1,
      "outputs": [
        {
          "output_type": "stream",
          "name": "stdout",
          "text": [
            "2\n"
          ]
        }
      ]
    },
    {
      "cell_type": "markdown",
      "source": [
        "**Ответ верный**"
      ],
      "metadata": {
        "id": "g9TONZAKLxaN"
      }
    },
    {
      "cell_type": "markdown",
      "source": [
        "[Решения с geeksforgeeks](https://www.geeksforgeeks.org/program-for-nth-fibonacci-number/)"
      ],
      "metadata": {
        "id": "psM8mHARLvI-"
      }
    },
    {
      "cell_type": "markdown",
      "source": [
        "## Задача 2"
      ],
      "metadata": {
        "id": "6idFmNByL-Re"
      }
    },
    {
      "cell_type": "markdown",
      "source": [],
      "metadata": {
        "id": "0qh9GTdgMi0x"
      }
    }
  ]
}