{
  "nbformat": 4,
  "nbformat_minor": 0,
  "metadata": {
    "colab": {
      "provenance": [],
      "toc_visible": true,
      "authorship_tag": "ABX9TyOV7S6XiDYBWofFHsxiuio0",
      "include_colab_link": true
    },
    "kernelspec": {
      "name": "python3",
      "display_name": "Python 3"
    },
    "language_info": {
      "name": "python"
    }
  },
  "cells": [
    {
      "cell_type": "markdown",
      "metadata": {
        "id": "view-in-github",
        "colab_type": "text"
      },
      "source": [
        "<a href=\"https://colab.research.google.com/github/BISH0808/Algorithms/blob/main/Algorithms_notes_rus/Algorithms_basics.ipynb\" target=\"_parent\"><img src=\"https://colab.research.google.com/assets/colab-badge.svg\" alt=\"Open In Colab\"/></a>"
      ]
    },
    {
      "cell_type": "markdown",
      "source": [
        "#Algorithms basics"
      ],
      "metadata": {
        "id": "jJTpPH8ol1wM"
      }
    },
    {
      "cell_type": "markdown",
      "source": [
        "# Полезные ссылки на обучающие матреиалы"
      ],
      "metadata": {
        "id": "k5xevVaRla0W"
      }
    },
    {
      "cell_type": "markdown",
      "source": [
        "Видео от UlbiTV:\n",
        "\n",
        "https://www.youtube.com/watch?v=NErrGZ64OdE&list=PLdrkFH5HIVuAJvRhkOs-Mce6MoolrHSUm&index=4&t=3s"
      ],
      "metadata": {
        "id": "xoKz1yhHlY03"
      }
    }
  ]
}