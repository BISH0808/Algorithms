{
  "nbformat": 4,
  "nbformat_minor": 0,
  "metadata": {
    "colab": {
      "provenance": [],
      "authorship_tag": "ABX9TyP3Ba0dwpK/BtjApWl8KUhn",
      "include_colab_link": true
    },
    "kernelspec": {
      "name": "python3",
      "display_name": "Python 3"
    },
    "language_info": {
      "name": "python"
    }
  },
  "cells": [
    {
      "cell_type": "markdown",
      "metadata": {
        "id": "view-in-github",
        "colab_type": "text"
      },
      "source": [
        "<a href=\"https://colab.research.google.com/github/BISH0808/Algorithms/blob/main/Notes_from_UlbiTV_video/Introduction_and_complexity.ipynb\" target=\"_parent\"><img src=\"https://colab.research.google.com/assets/colab-badge.svg\" alt=\"Open In Colab\"/></a>"
      ]
    },
    {
      "cell_type": "markdown",
      "source": [
        "# Введение (Introduction)"
      ],
      "metadata": {
        "id": "G2znaRCuTLaz"
      }
    },
    {
      "cell_type": "markdown",
      "source": [
        "Алгоритм - это последовательность действий, которая решает какую-то задачу"
      ],
      "metadata": {
        "id": "FFNRdr4ZTNz7"
      }
    },
    {
      "cell_type": "markdown",
      "source": [
        "# Оценка сложности алгоритма (Complexity)"
      ],
      "metadata": {
        "id": "xxpq2E9_TcAb"
      }
    },
    {
      "cell_type": "markdown",
      "source": [],
      "metadata": {
        "id": "RNCSdAAbTgwL"
      }
    }
  ]
}