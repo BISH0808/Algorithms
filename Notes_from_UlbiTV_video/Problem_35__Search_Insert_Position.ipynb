{
  "nbformat": 4,
  "nbformat_minor": 0,
  "metadata": {
    "colab": {
      "provenance": [],
      "authorship_tag": "ABX9TyNS5N3bO+zjsHPIQhtHnt2T",
      "include_colab_link": true
    },
    "kernelspec": {
      "name": "python3",
      "display_name": "Python 3"
    },
    "language_info": {
      "name": "python"
    }
  },
  "cells": [
    {
      "cell_type": "markdown",
      "metadata": {
        "id": "view-in-github",
        "colab_type": "text"
      },
      "source": [
        "<a href=\"https://colab.research.google.com/github/BISH0808/Algorithms/blob/main/Notes_from_UlbiTV_video/Problem_35__Search_Insert_Position.ipynb\" target=\"_parent\"><img src=\"https://colab.research.google.com/assets/colab-badge.svg\" alt=\"Open In Colab\"/></a>"
      ]
    },
    {
      "cell_type": "code",
      "execution_count": null,
      "metadata": {
        "id": "ADoGFU-eQ8cL"
      },
      "outputs": [],
      "source": []
    },
    {
      "cell_type": "markdown",
      "source": [
        "# Search Insert Position  "
      ],
      "metadata": {
        "id": "swIy5qLWTX2A"
      }
    },
    {
      "cell_type": "markdown",
      "source": [
        "https://leetcode.com/problems/search-insert-position/description/ - на leetcode"
      ],
      "metadata": {
        "id": "fia9w0eITZKc"
      }
    },
    {
      "cell_type": "markdown",
      "source": [
        "# Условие задачи"
      ],
      "metadata": {
        "id": "uptOY0NTUBXg"
      }
    },
    {
      "cell_type": "markdown",
      "source": [
        "Учитывая отсортированный массив различных целых чисел и целевое значение, верните индекс, если цель найдена. Если нет, верните индекс там, где он был бы, если бы он был вставлен по порядку.\n",
        "\n",
        "Вы должны написать алгоритм со сложностью выполнения O(log n)."
      ],
      "metadata": {
        "id": "bD8PqRQGUDzd"
      }
    },
    {
      "cell_type": "markdown",
      "source": [
        "# Предисловие"
      ],
      "metadata": {
        "id": "s0khq6PbTtO1"
      }
    },
    {
      "cell_type": "markdown",
      "source": [
        "* Простая задача, в основе которой будет использовться бинарный поиск."
      ],
      "metadata": {
        "id": "Jh0NjzEyT5ys"
      }
    }
  ]
}