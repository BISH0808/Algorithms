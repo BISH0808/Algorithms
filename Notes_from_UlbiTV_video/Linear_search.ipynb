{
  "nbformat": 4,
  "nbformat_minor": 0,
  "metadata": {
    "colab": {
      "provenance": [],
      "authorship_tag": "ABX9TyMB/vVKzL4ZFxaqoaNNnuXa",
      "include_colab_link": true
    },
    "kernelspec": {
      "name": "python3",
      "display_name": "Python 3"
    },
    "language_info": {
      "name": "python"
    }
  },
  "cells": [
    {
      "cell_type": "markdown",
      "metadata": {
        "id": "view-in-github",
        "colab_type": "text"
      },
      "source": [
        "<a href=\"https://colab.research.google.com/github/BISH0808/Algorithms/blob/main/Notes_from_UlbiTV_video/Linear_search.ipynb\" target=\"_parent\"><img src=\"https://colab.research.google.com/assets/colab-badge.svg\" alt=\"Open In Colab\"/></a>"
      ]
    },
    {
      "cell_type": "markdown",
      "source": [
        "Алгоритм линейного поиска по факту  реализуется простым перебором (циклом).\n",
        "\n"
      ],
      "metadata": {
        "id": "HxaH5GTTRrb1"
      }
    },
    {
      "cell_type": "code",
      "execution_count": null,
      "metadata": {
        "id": "0GBfS0Q6SxsW"
      },
      "outputs": [],
      "source": [
        "const array = [1, 4, 5, 8, 5, 1, 2, 7, 5, 2, 11]\n",
        "\n",
        "function linearSearch(array, item) {\n",
        "    for (let i = 0; i < array.length; i++) {\n",
        "        if(array[i] === item) {\n",
        "            return i;\n",
        "        }\n",
        "    }\n",
        "    return null\n",
        "}\n",
        "\n",
        "console.log(linearSearch(array, item: 8))"
      ]
    },
    {
      "cell_type": "markdown",
      "source": [
        "Добавили  счетчик"
      ],
      "metadata": {
        "id": "nE_5wJ93VK1I"
      }
    },
    {
      "cell_type": "code",
      "source": [
        "const array = [1, 4, 5, 8, 5, 1, 2, 7, 5, 2, 11]\n",
        "\n",
        "function linearSearch(array, item) {\n",
        "    for (let i = 0; i < array.length; i++) {\n",
        "        count +=1\n",
        "        if(array[i] === item) {\n",
        "            return i;\n",
        "        }\n",
        "    }\n",
        "    return null\n",
        "}\n",
        "\n",
        "console.log(linearSearch(array, 8))\n",
        "console.log('count = ', count)"
      ],
      "metadata": {
        "id": "ee6tdrnyVM7C"
      },
      "execution_count": null,
      "outputs": []
    },
    {
      "cell_type": "markdown",
      "source": [
        "**Ответ:**"
      ],
      "metadata": {
        "id": "yfhinP1jWtDA"
      }
    },
    {
      "cell_type": "markdown",
      "source": [
        "![image.png](data:image/png;base64,iVBORw0KGgoAAAANSUhEUgAAAJQAAAAzCAYAAABxJSGCAAADvUlEQVR4nO3cv2/aaBzH8XdPN3o6ltyCq+oOnUQXWKpm4Fgx6Yg8EeaTl1yG+G+AIWFBnUknxHjErI6HdoMpS0861SzXhc373YAJhtROnD6Emn5fUqRgjHmkfJ5fxF+e6b/89h9CKPLDrhsg9osESij1Y+wzdh+vpq8fCyb0jk4ZbLlRIruePXwNdcY710CXUIkEKaa8DqNpAFqO59trj8g4WUMJpR4eqMY5rZJGMHVob7FBItviF+UAjXMcq4y2fDxzqPwpqycRL8WiHOxLl3o+YNI74mS4zWaJrEq1hmofO/hoFA7NbbVHZJwsyoVSKQJl0h0Z6PhcyzpKxIhdlJsXI6yStnYsmL6VRblIlGpRLsR9ZA0llJJACaUkUEIpCZRQSgIllJJACaUkUEIpCZRQSgIllJJACaUkUEKpzAbKvBjhuX3sXTdErMlsoPbFomO4e9M5JFC7FBZ+7JPkIgW4W0E8c6gcd9ZOuXPv1OY5YbHDfFylGSmZsS9d6j+tCkftS5c6DpW/DtaKI/zb14XFprdX0Ki7LvXbxz5X1VZmqnLsN2W0YMLV3wXqpV23Ro3EEcq+dPFqOv64SqUa/twUeXc7Npt0Ry5Wac7V8vmqg5838EbnPOrO87yBZ+W4Dq/XmwbotRHdBkCHZuT4IkCRtmUoTNj9RcFH/5RPu26LQvEjVOOc3/PR0SHUbtFc/m4blLWASS/6h+zQHBfxamWObBik/guvX2/w/iOtUpnci7TXeYjNEW/DF0ZjZe9b0wmmbzkZgnm4hbfYkfhbgA8LaPhcJwTCLuqAz7+bJVXtG/yaTu7AhLTfghB85MOTlWh1aFa3EZhk5kUFHZ+rPbydOnbKe57TIJjfPxwnnKPlYvv+9ytciPvjDE3PKcSOUJ/mAeS/7osxgrn/Fa9+Ck895Zl0W2W0mYOxj2kiIVCDz3MsdF7aENeV2jc+9VqB1w0YRKcpu4hOwOR90pB+xss8EDym2cv25fi5ATx6inziKa/xioIGaAaea2w8udyxZmunuil+l9d2mAREdlghu7/a5bUdJoFGuRXd0S0WnMy8Vbn68DNzQC+erc5JGhke4p85ARrlN2f3n/utGJ5irO1Kv7RjzW6YIPFzqAEnR4PFZ0OWi2eFh2cOlePoOdAd/YHluixPuVu/16HZO8CxVj3TH1fpHYywfn1ky4enGC/6eLVob892794HUpcnlJJ/vQilJFBCKQmUUEoCJZSSQAmlJFBCKQmUUEoCJZSSQAmlJFBCKQmUUEoCJZT6Hyp6QH5xW02vAAAAAElFTkSuQmCC)"
      ],
      "metadata": {
        "id": "6CRjmZBjWwu_"
      }
    },
    {
      "cell_type": "markdown",
      "source": [],
      "metadata": {
        "id": "mx3aybPXWxuQ"
      }
    }
  ]
}