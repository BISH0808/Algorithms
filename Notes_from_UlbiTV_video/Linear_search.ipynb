{
  "nbformat": 4,
  "nbformat_minor": 0,
  "metadata": {
    "colab": {
      "provenance": [],
      "authorship_tag": "ABX9TyNnt5blKC2LQ0OQLWTXZTpn",
      "include_colab_link": true
    },
    "kernelspec": {
      "name": "python3",
      "display_name": "Python 3"
    },
    "language_info": {
      "name": "python"
    }
  },
  "cells": [
    {
      "cell_type": "markdown",
      "metadata": {
        "id": "view-in-github",
        "colab_type": "text"
      },
      "source": [
        "<a href=\"https://colab.research.google.com/github/BISH0808/Algorithms/blob/main/Notes_from_UlbiTV_video/Linear_search.ipynb\" target=\"_parent\"><img src=\"https://colab.research.google.com/assets/colab-badge.svg\" alt=\"Open In Colab\"/></a>"
      ]
    },
    {
      "cell_type": "code",
      "execution_count": null,
      "metadata": {
        "id": "0GBfS0Q6SxsW"
      },
      "outputs": [],
      "source": [
        "const array = [1, 4, 5, 8, 5, 1, 2, 7, 5, 2, 11]\n",
        "\n",
        "function linearSearch(array, item) {\n",
        "    for (let i = 0; i < array.length; i++) {\n",
        "        if(array[i] === item) {\n",
        "            return i;\n",
        "        }\n",
        "    }\n",
        "    return null\n",
        "}\n",
        "\n",
        "console.log(linearSearch(array, item: 8))"
      ]
    },
    {
      "cell_type": "markdown",
      "source": [
        "Добавили  счетчик"
      ],
      "metadata": {
        "id": "nE_5wJ93VK1I"
      }
    },
    {
      "cell_type": "code",
      "source": [
        "const array = [1, 4, 5, 8, 5, 1, 2, 7, 5, 2, 11]\n",
        "\n",
        "function linearSearch(array, item) {\n",
        "    for (let i = 0; i < array.length; i++) {\n",
        "        count +=1\n",
        "        if(array[i] === item) {\n",
        "            return i;\n",
        "        }\n",
        "    }\n",
        "    return null\n",
        "}\n",
        "\n",
        "console.log(linearSearch(array, 8))\n",
        "console.log('count = ', count)"
      ],
      "metadata": {
        "id": "ee6tdrnyVM7C"
      },
      "execution_count": null,
      "outputs": []
    }
  ]
}