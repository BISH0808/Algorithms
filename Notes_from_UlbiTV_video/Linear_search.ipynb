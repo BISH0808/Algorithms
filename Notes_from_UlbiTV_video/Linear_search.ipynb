{
  "nbformat": 4,
  "nbformat_minor": 0,
  "metadata": {
    "colab": {
      "provenance": [],
      "authorship_tag": "ABX9TyMX18kpykWBAChvX+55h+MX",
      "include_colab_link": true
    },
    "kernelspec": {
      "name": "python3",
      "display_name": "Python 3"
    },
    "language_info": {
      "name": "python"
    }
  },
  "cells": [
    {
      "cell_type": "markdown",
      "metadata": {
        "id": "view-in-github",
        "colab_type": "text"
      },
      "source": [
        "<a href=\"https://colab.research.google.com/github/BISH0808/Algorithms/blob/main/Notes_from_UlbiTV_video/Linear_search.ipynb\" target=\"_parent\"><img src=\"https://colab.research.google.com/assets/colab-badge.svg\" alt=\"Open In Colab\"/></a>"
      ]
    },
    {
      "cell_type": "code",
      "execution_count": null,
      "metadata": {
        "id": "0GBfS0Q6SxsW"
      },
      "outputs": [],
      "source": [
        "const array = [1, 4, 5, 8, 5, 1, 2, 7, 5, 2, 11]\n",
        "\n",
        "function linearSearch(array, item) {\n",
        "    for (let i = 0; i < array.length; i++) {\n",
        "        if(array[i] === item) {\n",
        "            return i;\n",
        "        }\n",
        "    }\n",
        "    return null\n",
        "}\n",
        "\n",
        "console.log(linearSearch(array, item: 8))"
      ]
    }
  ]
}