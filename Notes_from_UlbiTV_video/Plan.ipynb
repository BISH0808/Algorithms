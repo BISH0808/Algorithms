{
  "nbformat": 4,
  "nbformat_minor": 0,
  "metadata": {
    "colab": {
      "provenance": [],
      "authorship_tag": "ABX9TyPqAjU5oAQmF71rlOm5Eyt3",
      "include_colab_link": true
    },
    "kernelspec": {
      "name": "python3",
      "display_name": "Python 3"
    },
    "language_info": {
      "name": "python"
    }
  },
  "cells": [
    {
      "cell_type": "markdown",
      "metadata": {
        "id": "view-in-github",
        "colab_type": "text"
      },
      "source": [
        "<a href=\"https://colab.research.google.com/github/BISH0808/Algorithms/blob/main/Notes_from_UlbiTV_video/Plan.ipynb\" target=\"_parent\"><img src=\"https://colab.research.google.com/assets/colab-badge.svg\" alt=\"Open In Colab\"/></a>"
      ]
    },
    {
      "cell_type": "markdown",
      "source": [
        "# План"
      ],
      "metadata": {
        "id": "c7MZqHBp68gM"
      }
    },
    {
      "cell_type": "markdown",
      "source": [
        "## Алгоритмы"
      ],
      "metadata": {
        "id": "wRceo26Z86yi"
      }
    },
    {
      "cell_type": "markdown",
      "source": [
        "Алгоритмы:\n",
        "* Поиска\n",
        "* Сортировки\n",
        "* Рекурсивные\n",
        "* Дейкстры для поиска кратчайшего пути в графе\n",
        "* Обхода деревьев\n",
        "* Кеширования"
      ],
      "metadata": {
        "id": "t0CXR-878_VR"
      }
    },
    {
      "cell_type": "markdown",
      "source": [
        "## Структуры"
      ],
      "metadata": {
        "id": "h_B3okwF9O9R"
      }
    },
    {
      "cell_type": "markdown",
      "source": [
        "Структуры:\n",
        "* массивы\n",
        "* очередь\n",
        "* стэк\n",
        "* мэп\n",
        "* двоичное дерево\n",
        "* n-арное дерево\n",
        "* графы"
      ],
      "metadata": {
        "id": "xBtg6KCA9Rnz"
      }
    }
  ]
}