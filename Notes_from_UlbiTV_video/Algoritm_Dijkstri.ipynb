{
  "nbformat": 4,
  "nbformat_minor": 0,
  "metadata": {
    "colab": {
      "provenance": [],
      "authorship_tag": "ABX9TyPhYMHH0haNVGGZia8Xb1wT",
      "include_colab_link": true
    },
    "kernelspec": {
      "name": "python3",
      "display_name": "Python 3"
    },
    "language_info": {
      "name": "python"
    }
  },
  "cells": [
    {
      "cell_type": "markdown",
      "metadata": {
        "id": "view-in-github",
        "colab_type": "text"
      },
      "source": [
        "<a href=\"https://colab.research.google.com/github/BISH0808/Algorithms/blob/main/Notes_from_UlbiTV_video/Algoritm_Dijkstri.ipynb\" target=\"_parent\"><img src=\"https://colab.research.google.com/assets/colab-badge.svg\" alt=\"Open In Colab\"/></a>"
      ]
    },
    {
      "cell_type": "markdown",
      "source": [
        "# Algoritm Dijkstri ( Алгоритм Дейкстры)"
      ],
      "metadata": {
        "id": "eNXr-2yHvlPx"
      }
    },
    {
      "cell_type": "markdown",
      "source": [],
      "metadata": {
        "id": "UvaodiQrv0Ye"
      }
    }
  ]
}