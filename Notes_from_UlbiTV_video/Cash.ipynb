{
  "nbformat": 4,
  "nbformat_minor": 0,
  "metadata": {
    "colab": {
      "provenance": [],
      "authorship_tag": "ABX9TyMVjQ2krtw9d8N0aW4uA7fQ",
      "include_colab_link": true
    },
    "kernelspec": {
      "name": "python3",
      "display_name": "Python 3"
    },
    "language_info": {
      "name": "python"
    }
  },
  "cells": [
    {
      "cell_type": "markdown",
      "metadata": {
        "id": "view-in-github",
        "colab_type": "text"
      },
      "source": [
        "<a href=\"https://colab.research.google.com/github/BISH0808/Algorithms/blob/main/Notes_from_UlbiTV_video/Cash.ipynb\" target=\"_parent\"><img src=\"https://colab.research.google.com/assets/colab-badge.svg\" alt=\"Open In Colab\"/></a>"
      ]
    },
    {
      "cell_type": "markdown",
      "source": [
        "#Cash (Алгоритмы кэширования)"
      ],
      "metadata": {
        "id": "fexsIDNPkTu9"
      }
    },
    {
      "cell_type": "markdown",
      "source": [],
      "metadata": {
        "id": "vzKVsAglkXnd"
      }
    },
    {
      "cell_type": "markdown",
      "source": [
        "Создадим функцию, которая будет кэшировать внутри себя результат выполнения какой-то другой функции.\n",
        "\n",
        "В качестве примера возьмем функцию факториал."
      ],
      "metadata": {
        "id": "xSUC1i9OslR9"
      }
    },
    {
      "cell_type": "code",
      "execution_count": null,
      "metadata": {
        "id": "uHkA4OIikSGe"
      },
      "outputs": [],
      "source": [
        "function cashFuction(fn)    {\n",
        "    const cash={}\n",
        "    return function (n) {\n",
        "        if(cash[n]){\n",
        "            console.log('Взято из кеша', cash[n])\n",
        "            return cash[n]\n",
        "        }\n",
        "        let result = fn(n)\n",
        "        console.log('Посчитала функция', result)\n",
        "        cash[n] = result\n",
        "        return result;\n",
        "    };\n",
        "}\n",
        "\n",
        "function factorial(n)   {\n",
        "    let result = 1\n",
        "    while (n != 1){\n",
        "        result *= n\n",
        "        n -= 1\n",
        "    }\n",
        "    return result\n",
        "}\n",
        "const cashFactorial = cashFuction(factorial)\n",
        "\n",
        "cashFactorial(5)\n",
        "cashFactorial(4)\n",
        "cashFactorial(3)\n",
        "cashFactorial(4)\n"
      ]
    },
    {
      "cell_type": "markdown",
      "source": [
        "**Ответ:** "
      ],
      "metadata": {
        "id": "XzN0lJl7TgUE"
      }
    },
    {
      "cell_type": "markdown",
      "source": [
        "Посчитала функция 120\n",
        "Посчитала функция 24\n",
        "Посчитала функция 6\n",
        "Взято из кеша 24\n"
      ],
      "metadata": {
        "id": "oBmPpryWTj7k"
      }
    }
  ]
}