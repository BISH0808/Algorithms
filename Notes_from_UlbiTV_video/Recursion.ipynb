{
  "nbformat": 4,
  "nbformat_minor": 0,
  "metadata": {
    "colab": {
      "provenance": [],
      "authorship_tag": "ABX9TyNtMwD96mkV+1PUBD3Qx4wY",
      "include_colab_link": true
    },
    "kernelspec": {
      "name": "python3",
      "display_name": "Python 3"
    },
    "language_info": {
      "name": "python"
    }
  },
  "cells": [
    {
      "cell_type": "markdown",
      "metadata": {
        "id": "view-in-github",
        "colab_type": "text"
      },
      "source": [
        "<a href=\"https://colab.research.google.com/github/BISH0808/Algorithms/blob/main/Notes_from_UlbiTV_video/Recursion.ipynb\" target=\"_parent\"><img src=\"https://colab.research.google.com/assets/colab-badge.svg\" alt=\"Open In Colab\"/></a>"
      ]
    },
    {
      "cell_type": "markdown",
      "source": [
        "#Рекурсия\n"
      ],
      "metadata": {
        "id": "xLdyPGJhYq8D"
      }
    },
    {
      "cell_type": "markdown",
      "source": [
        "#Определение"
      ],
      "metadata": {
        "id": "OGLp5wFpY0UL"
      }
    },
    {
      "cell_type": "markdown",
      "source": [
        "Рекурсия - это функция, которая вызывает сама себя."
      ],
      "metadata": {
        "id": "ex07pFpfYtSz"
      }
    },
    {
      "cell_type": "markdown",
      "source": [
        "Рекурсия всегда должна иметь какое-то условие, какой-то случай, при котором вызов функции прекращается. \n",
        "Иначе будет переполнение стэка вызова, функция будет вызывать сама себя бесконечно."
      ],
      "metadata": {
        "id": "5v5j4izjY8DL"
      }
    },
    {
      "cell_type": "markdown",
      "source": [
        "# Пример №1"
      ],
      "metadata": {
        "id": "CirlY6cCZDox"
      }
    },
    {
      "cell_type": "markdown",
      "source": [
        "В качестве примера реализуем функцию для расчёта факториала"
      ],
      "metadata": {
        "id": "yanoAEIqLJkE"
      }
    },
    {
      "cell_type": "code",
      "source": [
        "const factorial = (n) => {\n",
        "    if (n===1){\n",
        "        return 1\n",
        "    }\n",
        "    return n*factorial(n-1)\n",
        "}\n",
        "\n",
        "console.log(factorial(5))"
      ],
      "metadata": {
        "id": "3sn3LX2RLPB7"
      },
      "execution_count": null,
      "outputs": []
    },
    {
      "cell_type": "markdown",
      "source": [
        "Ответ:120"
      ],
      "metadata": {
        "id": "ZJuTUn8oLOTz"
      }
    },
    {
      "cell_type": "markdown",
      "source": [
        "Внутри этой функция функция вызывает сама себя."
      ],
      "metadata": {
        "id": "nKIan_9zLSdE"
      }
    },
    {
      "cell_type": "markdown",
      "source": [
        "Подобного рода **функция** называется **рекурсивной**."
      ],
      "metadata": {
        "id": "2j0ZsyXFLbz9"
      }
    },
    {
      "cell_type": "markdown",
      "source": [
        "# Пример №2"
      ],
      "metadata": {
        "id": "NOeZeiO1yLL6"
      }
    },
    {
      "cell_type": "markdown",
      "source": [
        "В качестве 2го примера реализуем функцию для расчёта чисел Фибоначчи"
      ],
      "metadata": {
        "id": "0aTX_wGeyQCx"
      }
    },
    {
      "cell_type": "code",
      "source": [
        "// Числа Фибоначчи - 1, 1, 2, 3, 5, 8, 13, 21\n",
        "\n",
        "const fibonachi = (n) => {\n",
        "    if (n === 1 || n === 2){\n",
        "        return 1  \n",
        "    }\n",
        "    return fibonachi(n-1) + fibonachi(n-2)\n",
        "}\n",
        "\n",
        "console.log(fibonachi(8))"
      ],
      "metadata": {
        "id": "DW5ukrFwyLah"
      },
      "execution_count": null,
      "outputs": []
    },
    {
      "cell_type": "markdown",
      "source": [
        "Ответ: 21"
      ],
      "metadata": {
        "id": "lVphZ-GwyVFw"
      }
    }
  ]
}