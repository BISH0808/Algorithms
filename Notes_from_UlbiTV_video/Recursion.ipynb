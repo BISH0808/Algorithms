{
  "nbformat": 4,
  "nbformat_minor": 0,
  "metadata": {
    "colab": {
      "provenance": [],
      "authorship_tag": "ABX9TyPEnzKoo8Dk+7eb2qaYjOIf",
      "include_colab_link": true
    },
    "kernelspec": {
      "name": "python3",
      "display_name": "Python 3"
    },
    "language_info": {
      "name": "python"
    }
  },
  "cells": [
    {
      "cell_type": "markdown",
      "metadata": {
        "id": "view-in-github",
        "colab_type": "text"
      },
      "source": [
        "<a href=\"https://colab.research.google.com/github/BISH0808/Algorithms/blob/main/Notes_from_UlbiTV_video/Recursion.ipynb\" target=\"_parent\"><img src=\"https://colab.research.google.com/assets/colab-badge.svg\" alt=\"Open In Colab\"/></a>"
      ]
    },
    {
      "cell_type": "markdown",
      "source": [
        "#Рекурсия\n"
      ],
      "metadata": {
        "id": "xLdyPGJhYq8D"
      }
    },
    {
      "cell_type": "markdown",
      "source": [
        "#Определение"
      ],
      "metadata": {
        "id": "OGLp5wFpY0UL"
      }
    },
    {
      "cell_type": "markdown",
      "source": [
        "Рекурсия - это функция, которая вызывает сама себя."
      ],
      "metadata": {
        "id": "ex07pFpfYtSz"
      }
    },
    {
      "cell_type": "markdown",
      "source": [
        "Рекурсия всегда должна иметь какое-то условие, какой-то случай, при котором вызов функции прекращается. \n",
        "Иначе будет переполнение стэка вызова, функция будет вызывать сама себя бесконечно."
      ],
      "metadata": {
        "id": "5v5j4izjY8DL"
      }
    },
    {
      "cell_type": "markdown",
      "source": [],
      "metadata": {
        "id": "CirlY6cCZDox"
      }
    }
  ]
}