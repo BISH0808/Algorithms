{
  "nbformat": 4,
  "nbformat_minor": 0,
  "metadata": {
    "colab": {
      "provenance": [],
      "authorship_tag": "ABX9TyOXj2j/tEcyJIDvbVVAjDsr",
      "include_colab_link": true
    },
    "kernelspec": {
      "name": "python3",
      "display_name": "Python 3"
    },
    "language_info": {
      "name": "python"
    }
  },
  "cells": [
    {
      "cell_type": "markdown",
      "metadata": {
        "id": "view-in-github",
        "colab_type": "text"
      },
      "source": [
        "<a href=\"https://colab.research.google.com/github/BISH0808/Algorithms/blob/main/Notes_from_UlbiTV_video/Recursion.ipynb\" target=\"_parent\"><img src=\"https://colab.research.google.com/assets/colab-badge.svg\" alt=\"Open In Colab\"/></a>"
      ]
    },
    {
      "cell_type": "markdown",
      "source": [
        "#Рекурсия\n"
      ],
      "metadata": {
        "id": "xLdyPGJhYq8D"
      }
    },
    {
      "cell_type": "markdown",
      "source": [
        "#Определение"
      ],
      "metadata": {
        "id": "OGLp5wFpY0UL"
      }
    },
    {
      "cell_type": "markdown",
      "source": [
        "Рекурсия - это функция, которая вызывает сама себя."
      ],
      "metadata": {
        "id": "ex07pFpfYtSz"
      }
    },
    {
      "cell_type": "markdown",
      "source": [
        "Рекурсия всегда должна иметь какое-то условие, какой-то случай, при котором вызов функции прекращается. \n",
        "Иначе будет переполнение стэка вызова, функция будет вызывать сама себя бесконечно."
      ],
      "metadata": {
        "id": "5v5j4izjY8DL"
      }
    },
    {
      "cell_type": "markdown",
      "source": [
        "# Пример"
      ],
      "metadata": {
        "id": "CirlY6cCZDox"
      }
    },
    {
      "cell_type": "markdown",
      "source": [
        "В качестве примера реализуем функцию для расчёта факториала"
      ],
      "metadata": {
        "id": "yanoAEIqLJkE"
      }
    },
    {
      "cell_type": "code",
      "source": [
        "const factorial = (n) => {\n",
        "    if (n===1){\n",
        "        return 1\n",
        "    }\n",
        "    return n*factorial(n-1)\n",
        "}\n",
        "\n",
        "console.log(factorial(5))"
      ],
      "metadata": {
        "id": "3sn3LX2RLPB7"
      },
      "execution_count": null,
      "outputs": []
    },
    {
      "cell_type": "markdown",
      "source": [
        "Ответ:120"
      ],
      "metadata": {
        "id": "ZJuTUn8oLOTz"
      }
    },
    {
      "cell_type": "markdown",
      "source": [
        "Внутри этой функция функция вызывает сама себя."
      ],
      "metadata": {
        "id": "nKIan_9zLSdE"
      }
    },
    {
      "cell_type": "markdown",
      "source": [
        "Подобного рода **функция** называется **рекурсивной**."
      ],
      "metadata": {
        "id": "2j0ZsyXFLbz9"
      }
    }
  ]
}