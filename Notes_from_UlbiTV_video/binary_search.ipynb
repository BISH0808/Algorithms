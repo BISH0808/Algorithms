{
  "nbformat": 4,
  "nbformat_minor": 0,
  "metadata": {
    "colab": {
      "provenance": [],
      "authorship_tag": "ABX9TyMzbCUOlme7KJRo8vJKoLuD",
      "include_colab_link": true
    },
    "kernelspec": {
      "name": "python3",
      "display_name": "Python 3"
    },
    "language_info": {
      "name": "python"
    }
  },
  "cells": [
    {
      "cell_type": "markdown",
      "metadata": {
        "id": "view-in-github",
        "colab_type": "text"
      },
      "source": [
        "<a href=\"https://colab.research.google.com/github/BISH0808/Algorithms/blob/main/Notes_from_UlbiTV_video/binary_search.ipynb\" target=\"_parent\"><img src=\"https://colab.research.google.com/assets/colab-badge.svg\" alt=\"Open In Colab\"/></a>"
      ]
    },
    {
      "cell_type": "markdown",
      "source": [
        "Алгоритм **бинарного поиска** можно  реализовать **циклом** или **рекурсией**.\n",
        "\n",
        "Для начала рассмотрим реализацию при помощи цикла."
      ],
      "metadata": {
        "id": "bLe1862UZVwE"
      }
    },
    {
      "cell_type": "markdown",
      "source": [
        "Важно помнить, что бинарный алгоритм работает только на **отсортированной выборке**."
      ],
      "metadata": {
        "id": "KWfMjaX6Z2Dz"
      }
    },
    {
      "cell_type": "markdown",
      "source": [],
      "metadata": {
        "id": "U8y0SeS-aGC1"
      }
    },
    {
      "cell_type": "code",
      "execution_count": null,
      "metadata": {
        "id": "z_iIR3U4ZSqz"
      },
      "outputs": [],
      "source": [
        "const array = [0, 1, 2, 3, 4, 5, 6 , 7, 8, 9, 10, 11, 12, 13, 14, 15]\n",
        "let count = 0 \n",
        "\n",
        "function binarySearch(array, item) {\n",
        "    // # в первую очередь необходимо получить центральный элемент в массиве\n",
        "    let start = 0\n",
        "    let end = array.length\n",
        "    // # cразу центральный элемент в массиве вычислять не будем, сделаем это внутри цикла\n",
        "    let middle;\n",
        "    let found = false;\n",
        "    let position = -1; // set to -1 in case item is not found\n",
        "    // # напишем цикл, в котором мы либо найдем элемент или пока искомый и финальный элемент не сравняются\n",
        "    while (found === false && start <= end) {\n",
        "    // # посчитаем количество итераций\n",
        "        count +=1;\n",
        "    // # ищем середину массива\n",
        "    // # Функция Math.floor округляет полученное значение до целого числа, до нижней грацины\n",
        "\n",
        "    middle = Math.floor((start + end) / 2); // corrected the position of the parentheses\n",
        "    if (array[middle] === item) {\n",
        "      found = true;\n",
        "      position = middle;\n",
        "    } else if (item < array[middle]) {\n",
        "      end = middle - 1;\n",
        "    } else {\n",
        "      start = middle + 1;\n",
        "    }\n",
        "  }\n",
        "  return position;\n",
        "\n",
        "    \n",
        "}\n",
        "\n",
        "console.log(binarySearch(array, 4))\n",
        "console.log(count)"
      ]
    },
    {
      "cell_type": "markdown",
      "source": [
        "4ка - это максимальное количество итераций, за которое в данном массиве можно найти любое число"
      ],
      "metadata": {
        "id": "K1SbWNu9foT0"
      }
    },
    {
      "cell_type": "markdown",
      "source": [],
      "metadata": {
        "id": "XBlNaDEqftcD"
      }
    }
  ]
}