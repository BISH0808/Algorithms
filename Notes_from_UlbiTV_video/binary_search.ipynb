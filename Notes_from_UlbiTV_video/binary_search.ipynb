{
  "nbformat": 4,
  "nbformat_minor": 0,
  "metadata": {
    "colab": {
      "provenance": [],
      "authorship_tag": "ABX9TyP+Ej6GB1t7muaBsJWUTvHj",
      "include_colab_link": true
    },
    "kernelspec": {
      "name": "python3",
      "display_name": "Python 3"
    },
    "language_info": {
      "name": "python"
    }
  },
  "cells": [
    {
      "cell_type": "markdown",
      "metadata": {
        "id": "view-in-github",
        "colab_type": "text"
      },
      "source": [
        "<a href=\"https://colab.research.google.com/github/BISH0808/Algorithms/blob/main/Notes_from_UlbiTV_video/binary_search.ipynb\" target=\"_parent\"><img src=\"https://colab.research.google.com/assets/colab-badge.svg\" alt=\"Open In Colab\"/></a>"
      ]
    },
    {
      "cell_type": "markdown",
      "source": [
        "Алгоритм **бинарного поиска** можно  реализовать **циклом** или **рекурсией**.\n",
        "\n",
        "Для начала рассмотрим реализацию при помощи цикла."
      ],
      "metadata": {
        "id": "bLe1862UZVwE"
      }
    },
    {
      "cell_type": "markdown",
      "source": [
        "Важно помнить, что бинарный алгоритм работает только на **отсортированной выборке**."
      ],
      "metadata": {
        "id": "KWfMjaX6Z2Dz"
      }
    },
    {
      "cell_type": "markdown",
      "source": [],
      "metadata": {
        "id": "U8y0SeS-aGC1"
      }
    },
    {
      "cell_type": "code",
      "execution_count": null,
      "metadata": {
        "id": "z_iIR3U4ZSqz"
      },
      "outputs": [],
      "source": []
    }
  ]
}