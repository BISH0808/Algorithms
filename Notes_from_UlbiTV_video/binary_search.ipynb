{
  "nbformat": 4,
  "nbformat_minor": 0,
  "metadata": {
    "colab": {
      "provenance": [],
      "authorship_tag": "ABX9TyN630MNkFDup9VcSH//2U/U",
      "include_colab_link": true
    },
    "kernelspec": {
      "name": "python3",
      "display_name": "Python 3"
    },
    "language_info": {
      "name": "python"
    }
  },
  "cells": [
    {
      "cell_type": "markdown",
      "metadata": {
        "id": "view-in-github",
        "colab_type": "text"
      },
      "source": [
        "<a href=\"https://colab.research.google.com/github/BISH0808/Algorithms/blob/main/Notes_from_UlbiTV_video/binary_search.ipynb\" target=\"_parent\"><img src=\"https://colab.research.google.com/assets/colab-badge.svg\" alt=\"Open In Colab\"/></a>"
      ]
    },
    {
      "cell_type": "markdown",
      "source": [
        "Алгоритм **бинарного поиска** можно  реализовать **циклом** или **рекурсией**.\n",
        "\n",
        "Для начала рассмотрим реализацию при помощи цикла."
      ],
      "metadata": {
        "id": "bLe1862UZVwE"
      }
    },
    {
      "cell_type": "markdown",
      "source": [
        "Важно помнить, что бинарный алгоритм работает только на **отсортированной выборке**."
      ],
      "metadata": {
        "id": "KWfMjaX6Z2Dz"
      }
    },
    {
      "cell_type": "markdown",
      "source": [],
      "metadata": {
        "id": "U8y0SeS-aGC1"
      }
    },
    {
      "cell_type": "code",
      "execution_count": null,
      "metadata": {
        "id": "z_iIR3U4ZSqz"
      },
      "outputs": [],
      "source": [
        "const array = [0, 1, 2, 3, 4, 5, 6 , 7, 8, 9, 10, 11, 12, 13, 14, 15]\n",
        "let count = 0 \n",
        "\n",
        "function binarySearch(array, item) {\n",
        "    # в первую очередь необходимо получить центральный элемент в массиве\n",
        "    let start = 0\n",
        "    let end = array.length\n",
        "    # cразу центральный элемент в массиве вычислять не будем, сделаем это внутри цикла\n",
        "    let middle;\n",
        "    let found = false\n",
        "    let position = 1 \n",
        "    # напишем цикл, в котором мы либо найдем элемент или пока искомая и финальнаяпозиция не поравняются\n",
        "\n",
        "    \n",
        "}\n",
        "\n",
        "\n",
        "console.log(count)"
      ]
    }
  ]
}