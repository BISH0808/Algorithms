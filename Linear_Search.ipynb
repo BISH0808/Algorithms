{
  "nbformat": 4,
  "nbformat_minor": 0,
  "metadata": {
    "colab": {
      "provenance": [],
      "authorship_tag": "ABX9TyOZ/dw7gIm5XyxyfGyl4Etn",
      "include_colab_link": true
    },
    "kernelspec": {
      "name": "python3",
      "display_name": "Python 3"
    },
    "language_info": {
      "name": "python"
    }
  },
  "cells": [
    {
      "cell_type": "markdown",
      "metadata": {
        "id": "view-in-github",
        "colab_type": "text"
      },
      "source": [
        "<a href=\"https://colab.research.google.com/github/BISH0808/Algorithms/blob/main/Linear_Search.ipynb\" target=\"_parent\"><img src=\"https://colab.research.google.com/assets/colab-badge.svg\" alt=\"Open In Colab\"/></a>"
      ]
    },
    {
      "cell_type": "markdown",
      "source": [
        "# The idea of the  linear search algorithm"
      ],
      "metadata": {
        "id": "4VtcKoE14mo7"
      }
    },
    {
      "cell_type": "markdown",
      "source": [
        "THe idea of the linear search algorithm is to  look at each value in the list and compare against the target. If it is equal to the target then we have found the value and we can stop looking. If we go through the entire list and have not found the target, then it is not in the list. We can also write the flowchart for this. We start by getting input about the list and target value. If there is an untested item in the list, which initially there is, if the list is not empty, then we get an item and compare against the target."
      ],
      "metadata": {
        "id": "Np11o7Og4gdR"
      }
    },
    {
      "cell_type": "markdown",
      "source": [
        "Otherwise, we repeat the process. When there are no more untested items, we've looked at the entire list and have not found it. We therefore output false"
      ],
      "metadata": {
        "id": "oaus0oyv4iih"
      }
    },
    {
      "cell_type": "markdown",
      "source": [
        "# The example"
      ],
      "metadata": {
        "id": "Xo5sFeae46eQ"
      }
    }
  ]
}