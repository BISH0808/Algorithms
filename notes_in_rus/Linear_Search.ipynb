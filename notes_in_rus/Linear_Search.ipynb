{
  "nbformat": 4,
  "nbformat_minor": 0,
  "metadata": {
    "colab": {
      "provenance": [],
      "authorship_tag": "ABX9TyMj51+1y7wJ4d9G57W0KR2o",
      "include_colab_link": true
    },
    "kernelspec": {
      "name": "python3",
      "display_name": "Python 3"
    },
    "language_info": {
      "name": "python"
    }
  },
  "cells": [
    {
      "cell_type": "markdown",
      "metadata": {
        "id": "view-in-github",
        "colab_type": "text"
      },
      "source": [
        "<a href=\"https://colab.research.google.com/github/BISH0808/Algorithms/blob/main/notes_in_rus/Linear_Search.ipynb\" target=\"_parent\"><img src=\"https://colab.research.google.com/assets/colab-badge.svg\" alt=\"Open In Colab\"/></a>"
      ]
    },
    {
      "cell_type": "code",
      "execution_count": null,
      "metadata": {
        "id": "dLUp8IT9BxxL"
      },
      "outputs": [],
      "source": [
        "#"
      ]
    },
    {
      "cell_type": "markdown",
      "source": [
        "# Линейный поиск"
      ],
      "metadata": {
        "id": "iBy-U6_6Cd7L"
      }
    },
    {
      "cell_type": "markdown",
      "source": [
        "Алгоритм линейного поиска - это набор инструкций для обхода данного списка и проверки каждого элемента в списке, пока мы не найдем тот элемент, который ищем. Технический термин для искомого элемента - ключевой.\n",
        "Алгоритм переходит от самого левого (или начального) элемента и продолжает поиск, пока не найдет желаемый элемент или не пройдется по всем элементам в списке.\n",
        "Если элемент найден, мы вернем позицию (или index) элемента."
      ],
      "metadata": {
        "id": "KJHNlT42Cg_p"
      }
    },
    {
      "cell_type": "markdown",
      "source": [
        "Алгоритм линейного поиска - один из самых простых алгоритмов, которые я встречал."
      ],
      "metadata": {
        "id": "ZHqR0ixGC-OB"
      }
    },
    {
      "cell_type": "markdown",
      "source": [
        "**сделать зарисовку**"
      ],
      "metadata": {
        "id": "rUAZogGoDMOg"
      }
    }
  ]
}